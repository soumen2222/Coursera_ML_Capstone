{
 "cells": [
  {
   "cell_type": "markdown",
   "metadata": {
    "collapsed": true
   },
   "source": [
    "## The Battle of the Neighborhoods - Week 1"
   ]
  },
  {
   "cell_type": "markdown",
   "metadata": {},
   "source": [
    "###  Buisness Problem & Data "
   ]
  },
  {
   "cell_type": "markdown",
   "metadata": {},
   "source": [
    "###  Buisness Problem:"
   ]
  },
  {
   "cell_type": "markdown",
   "metadata": {},
   "source": [
    "Millions of Tourists, every year, travel to the USA to visit at least one out of the 5 major US cities which are: New York,NY, San Francisco, CA, Jersey City, NJ,  Boston, MA and Chicago,IL.\n",
    "\n",
    "As a Tourist I would like to taste one of the finest delicacies of the USA i.e Donuts. So I would like to stay in a place with a high density of Donut shops around me.\n",
    "\n",
    "The problem this model aims to solve is to analyze the Donut stores' locations in the major US cities and find the best city for our tourist so that he/she can taste the best donuts available in the USA.\n",
    "\n",
    "The model can help the Tourist to Zoom in the best City and the exact location in the city based on their favourite delicacies. The model developed here is only for Donuts but can be extended to any specific category.\n"
   ]
  },
  {
   "cell_type": "markdown",
   "metadata": {},
   "source": [
    "### Target Audience:"
   ]
  },
  {
   "cell_type": "markdown",
   "metadata": {},
   "source": [
    "This information will help Tourists to zoom in their hotel location/City based on their specific interest for favourite delicacies in a specific country.\n",
    "\n",
    "This data will also help Hotel owners to make these information available on their site so that it will help the Tourist to book the hotel based on their interest for favourite dishes. Such as 10 Donut shops near the Hotels, 5 Pizza shops near the hotel.\n"
   ]
  },
  {
   "cell_type": "markdown",
   "metadata": {},
   "source": [
    "###  Success Criteria:"
   ]
  },
  {
   "cell_type": "markdown",
   "metadata": {},
   "source": [
    "The success criteria of the project will be a good recommendation of the City and the exact location choice to Tourist based on their provided Delicacies, which will help them to book Hotel at the specified location."
   ]
  },
  {
   "cell_type": "markdown",
   "metadata": {},
   "source": [
    "###  Data and Solution:"
   ]
  },
  {
   "cell_type": "markdown",
   "metadata": {},
   "source": [
    "FourSquare API will be used to collect data about locations of Donut Shops in 5 major US cities which are: New York,NY, San Francisco, CA, Jersey City, NJ,  Boston, MA and Chicago,IL.\n",
    "\n",
    "The FourSquare API will provide us the Donut Shops for each city. We need to pass CLIENT_ID, CLIENT_SECRET , City and Category of Donut Shop.\n",
    " url = 'https://api.foursquare.com/v2/venues/explore?&client_id={}&client_secret={}&v={}&near={}&limit={}&categoryId={}'.format(\n",
    "        CLIENT_ID, \n",
    "        CLIENT_SECRET, \n",
    "        VERSION, \n",
    "        city,\n",
    "        LIMIT,\n",
    "        \"4bf58dd8d48988d148941735\")\n",
    "        \n",
    " Then we can calculate mean of latitude and longitudes of all the Venues in each city. Then calculate the Mean Distance from Mean coordinates. The city with the lowest mean distance is the selected city.\n"
   ]
  }
 ],
 "metadata": {
  "kernelspec": {
   "display_name": "Python 3",
   "language": "python",
   "name": "python3"
  },
  "language_info": {
   "codemirror_mode": {
    "name": "ipython",
    "version": 3
   },
   "file_extension": ".py",
   "mimetype": "text/x-python",
   "name": "python",
   "nbconvert_exporter": "python",
   "pygments_lexer": "ipython3",
   "version": "3.7.5"
  }
 },
 "nbformat": 4,
 "nbformat_minor": 1
}
